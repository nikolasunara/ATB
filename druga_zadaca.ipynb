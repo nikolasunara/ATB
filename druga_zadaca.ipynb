{
 "cells": [
  {
   "cell_type": "markdown",
   "metadata": {},
   "source": [
    "## Zadatak 1"
   ]
  },
  {
   "cell_type": "code",
   "execution_count": 7,
   "metadata": {},
   "outputs": [
    {
     "name": "stdout",
     "output_type": "stream",
     "text": [
      "2045\n"
     ]
    }
   ],
   "source": [
    "# m' = 311\n",
    "\n",
    "for i in range(100):\n",
    "    T = 2001 + i\n",
    "    U = T*311 % 1000\n",
    "    \n",
    "    if (T + U*209)/1000 >= 209:\n",
    "        print(T)\n",
    "        break"
   ]
  },
  {
   "cell_type": "markdown",
   "metadata": {},
   "source": [
    "Traženi T je jednak **2045**."
   ]
  },
  {
   "cell_type": "markdown",
   "metadata": {},
   "source": [
    "## Zadatak 2"
   ]
  },
  {
   "cell_type": "code",
   "execution_count": 14,
   "metadata": {},
   "outputs": [
    {
     "name": "stdout",
     "output_type": "stream",
     "text": [
      "233\n"
     ]
    }
   ],
   "source": [
    "# Garnerov algoritam za CRT\n",
    "k = 3\n",
    "mi = [1,1]\n",
    "M = [7,11,13] \n",
    "c = [0,0]\n",
    "X = [2,2,12]\n",
    "MM = 7*11*13\n",
    "\n",
    "for i in range( k - 1 ):\n",
    "    for j in range(i+1):\n",
    "        mi[i] *= M[j]\n",
    "    c[i] = pow(mi[i], -1, M[i+1])\n",
    "    \n",
    "x = X[0]\n",
    "for i in range(k-1):\n",
    "    y = ((X[i+1] - x)*c[i]) % M[i+1]\n",
    "    x = x + y * mi[i]\n",
    "    \n",
    "x = x % MM\n",
    "print(x)"
   ]
  },
  {
   "cell_type": "markdown",
   "metadata": {},
   "source": [
    "Rješenje je $233 + k \\cdot 7 \\cdot 11 \\cdot 13$, $k \\in \\mathbb{N} \\cup \\{0\\}$. "
   ]
  },
  {
   "cell_type": "markdown",
   "metadata": {},
   "source": [
    "## Zadatak 3"
   ]
  },
  {
   "cell_type": "code",
   "execution_count": 17,
   "metadata": {},
   "outputs": [],
   "source": [
    "import math"
   ]
  },
  {
   "cell_type": "code",
   "execution_count": 69,
   "metadata": {},
   "outputs": [],
   "source": [
    "def verizni_razlomak1( alpha, s_i, t_i, d):\n",
    "    \n",
    "    rjesenje = []\n",
    "    S = [s_i]\n",
    "    T = [t_i]\n",
    "    i = 1\n",
    "    \n",
    "    while(1):\n",
    "        a_i = int(alpha)\n",
    "        rjesenje.append(a_i)\n",
    "        s_ii = a_i * t_i - s_i\n",
    "        t_ii = (d - s_ii**2) / t_i\n",
    "        S.append(s_ii)\n",
    "        T.append(t_ii)\n",
    "    \n",
    "        alpha = (s_ii + math.sqrt(d)) / t_ii\n",
    "        t_i = t_ii\n",
    "        s_i = s_ii\n",
    "        \n",
    "        if( i > 1 and S[1] == S[i] and T[1] == T[i] ):\n",
    "            break\n",
    "        i += 1\n",
    "        if(i > 17):\n",
    "            break\n",
    "    \n",
    "    if( i == 17 ):\n",
    "        print(d)\n",
    "        print(*rjesenje)"
   ]
  },
  {
   "cell_type": "code",
   "execution_count": 70,
   "metadata": {},
   "outputs": [
    {
     "name": "stdout",
     "output_type": "stream",
     "text": [
      "94\n",
      "9 1 2 3 1 1 5 1 8 1 5 1 1 3 2 1 18\n"
     ]
    }
   ],
   "source": [
    "for i in range(100):\n",
    "    if i != 0 and int(math.sqrt(i)) != math.sqrt(i):\n",
    "        verizni_razlomak1(math.sqrt(i), 0, 1, i)"
   ]
  },
  {
   "cell_type": "markdown",
   "metadata": {},
   "source": [
    "Najmanji takav d je jednak **94**."
   ]
  }
 ],
 "metadata": {
  "kernelspec": {
   "display_name": "Python 3",
   "language": "python",
   "name": "python3"
  },
  "language_info": {
   "codemirror_mode": {
    "name": "ipython",
    "version": 3
   },
   "file_extension": ".py",
   "mimetype": "text/x-python",
   "name": "python",
   "nbconvert_exporter": "python",
   "pygments_lexer": "ipython3",
   "version": "3.8.5"
  }
 },
 "nbformat": 4,
 "nbformat_minor": 4
}
