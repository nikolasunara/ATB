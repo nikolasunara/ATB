{
 "cells": [
  {
   "cell_type": "markdown",
   "metadata": {},
   "source": [
    "## Zadatak 1"
   ]
  },
  {
   "cell_type": "code",
   "execution_count": 21,
   "metadata": {},
   "outputs": [
    {
     "name": "stdout",
     "output_type": "stream",
     "text": [
      "2 364\n",
      "3 384\n",
      "4 2\n",
      "5\n"
     ]
    }
   ],
   "source": [
    "m = 2137\n",
    "a = 1\n",
    "\n",
    "for j in range(m - 3):\n",
    "    a+=1\n",
    "    nasao = 0\n",
    "    for i in range(m):\n",
    "        if (i * i - a) % m == 0:\n",
    "            print( a, i, sep=\" \" )\n",
    "            nasao = 1\n",
    "            break\n",
    "    if nasao == 0:\n",
    "        print(a)\n",
    "        break"
   ]
  },
  {
   "cell_type": "markdown",
   "metadata": {},
   "source": [
    "Traženo rješenje je **5**."
   ]
  },
  {
   "cell_type": "markdown",
   "metadata": {},
   "source": [
    "## Zadatak 2"
   ]
  },
  {
   "cell_type": "code",
   "execution_count": 19,
   "metadata": {},
   "outputs": [
    {
     "name": "stdout",
     "output_type": "stream",
     "text": [
      "2136 = 2136\n",
      "Rjesenje:  1804\n"
     ]
    }
   ],
   "source": [
    "p = 2137\n",
    "a = 1902\n",
    "d = 5\n",
    "s = 3\n",
    "t = 267\n",
    "print( 2 ** 3 * 267, p - 1, sep=\" = \")\n",
    "\n",
    "A = (a ** t) % p\n",
    "D = (d ** t) % p\n",
    "\n",
    "m = 0\n",
    "\n",
    "for i in range(s):\n",
    "    if ( (A*(D**m))**(2**(s - 1 - i)) + 1) % p == 0:\n",
    "        m = m + 2 ** i\n",
    "x = ( (a ** int((t+1)/2)) * (D ** int(m/2)) ) % p\n",
    "\n",
    "print( \"Rjesenje: \", x )"
   ]
  },
  {
   "cell_type": "markdown",
   "metadata": {},
   "source": [
    "Rješenja su: $x \\equiv 333$ (mod 2137), $x \\equiv 1804$ (mod 2137)."
   ]
  },
  {
   "cell_type": "markdown",
   "metadata": {},
   "source": [
    "## Zadatak 3"
   ]
  },
  {
   "cell_type": "markdown",
   "metadata": {},
   "source": [
    "Uzmimo Q = 2000 i formiramo matricu B kao iz teorema 1.5 i pomoću PARI-ja izračunamo <code>qflll(B)</code>. Iz prvog stupca dobivene matrice pročitamo brojeve $q = 1534858$, $p_1 = 2170617$, $p_2 = 11789468$. Pomoću WolframAlpha-e provjerimo da dobiveni brojevi zadovoljavaju uvjete zadatka."
   ]
  }
 ],
 "metadata": {
  "kernelspec": {
   "display_name": "Python 3",
   "language": "python",
   "name": "python3"
  },
  "language_info": {
   "codemirror_mode": {
    "name": "ipython",
    "version": 3
   },
   "file_extension": ".py",
   "mimetype": "text/x-python",
   "name": "python",
   "nbconvert_exporter": "python",
   "pygments_lexer": "ipython3",
   "version": "3.8.5"
  }
 },
 "nbformat": 4,
 "nbformat_minor": 4
}
