{
 "cells": [
  {
   "cell_type": "markdown",
   "metadata": {},
   "source": [
    "## Zadatak 1"
   ]
  },
  {
   "cell_type": "code",
   "execution_count": 1,
   "metadata": {},
   "outputs": [],
   "source": [
    "import math"
   ]
  },
  {
   "cell_type": "code",
   "execution_count": 2,
   "metadata": {},
   "outputs": [
    {
     "name": "stdout",
     "output_type": "stream",
     "text": [
      "2\n",
      "2 5\n"
     ]
    }
   ],
   "source": [
    "n = 8700691\n",
    "e = 7 \n",
    "d = 2070103\n",
    "\n",
    "k = 2\n",
    "kraj = 0\n",
    "\n",
    "while 1:\n",
    "    print(k)\n",
    "    m = int((e*d -1)/(2**k))\n",
    "    for a in range(50):\n",
    "        if math.gcd(a,n) == 1 and (a**m - 1)%n != 0:\n",
    "            print(k,a)\n",
    "            kraj = 1\n",
    "            break\n",
    "    if kraj == 1:\n",
    "        break\n",
    "    k+=1"
   ]
  },
  {
   "cell_type": "markdown",
   "metadata": {},
   "source": [
    "Rješenje je $k = 2$ i $a=5$."
   ]
  },
  {
   "cell_type": "markdown",
   "metadata": {},
   "source": [
    "## Zadatak 2"
   ]
  },
  {
   "cell_type": "markdown",
   "metadata": {},
   "source": [
    "$d < \\frac{1}{3} n^{1/4} = 21.58$ <br>\n",
    "Računamo razvoj broja $\\frac{e}{n}$ u verižni razlomak i dobivamo:\n",
    "[0,6,2,1,35,10,1,1,6,1,1,28,1,2]. Pripadne konvergenete su: 0, $\\frac{1}{6}$, $\\frac{2}{13}$, $\\frac{3}{19}$, $\\frac{107}{678}$..."
   ]
  },
  {
   "cell_type": "code",
   "execution_count": 3,
   "metadata": {},
   "outputs": [
    {
     "data": {
      "text/plain": [
       "True"
      ]
     },
     "execution_count": 3,
     "metadata": {},
     "output_type": "execute_result"
    }
   ],
   "source": [
    "((2 ** 2772667) ** 19)%17568839 == 2"
   ]
  },
  {
   "cell_type": "markdown",
   "metadata": {},
   "source": [
    "Provjerom koji od nazivnika zadovoljava kongruenciju $(x^e)^d \\equiv x$(mod n), za $x=2$ dobivamo da je d jednak **19**."
   ]
  },
  {
   "cell_type": "markdown",
   "metadata": {},
   "source": [
    "## Zadatak 3"
   ]
  },
  {
   "cell_type": "code",
   "execution_count": 4,
   "metadata": {},
   "outputs": [],
   "source": [
    "def is_prime(a):\n",
    "    x = True \n",
    "    for i in range(2,a):\n",
    "        if a%i == 0:\n",
    "            x = False\n",
    "            break\n",
    "    return x"
   ]
  },
  {
   "cell_type": "code",
   "execution_count": 5,
   "metadata": {},
   "outputs": [
    {
     "name": "stdout",
     "output_type": "stream",
     "text": [
      "95 39\n",
      "133 1\n",
      "341 1\n"
     ]
    }
   ],
   "source": [
    "n = 9\n",
    "b = 39\n",
    "\n",
    "while n<1000:\n",
    "    if n%2==1:\n",
    "        if is_prime(n) == False:\n",
    "            if math.gcd(b,n) == 1:\n",
    "                if (b**(n-1))%n == 1:\n",
    "                    # ako smo došli ovdje n je psp(39)\n",
    "                    print(n, b**(int((n-1)/2))%n)\n",
    "    n+=1"
   ]
  },
  {
   "cell_type": "markdown",
   "metadata": {},
   "source": [
    "Rješenje je **95**."
   ]
  }
 ],
 "metadata": {
  "kernelspec": {
   "display_name": "Python 3",
   "language": "python",
   "name": "python3"
  },
  "language_info": {
   "codemirror_mode": {
    "name": "ipython",
    "version": 3
   },
   "file_extension": ".py",
   "mimetype": "text/x-python",
   "name": "python",
   "nbconvert_exporter": "python",
   "pygments_lexer": "ipython3",
   "version": "3.8.5"
  }
 },
 "nbformat": 4,
 "nbformat_minor": 4
}
